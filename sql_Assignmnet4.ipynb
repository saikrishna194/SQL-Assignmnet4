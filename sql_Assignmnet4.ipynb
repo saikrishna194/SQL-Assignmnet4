{
  "nbformat": 4,
  "nbformat_minor": 0,
  "metadata": {
    "colab": {
      "name": "sql Assignmnet4.ipynb",
      "provenance": []
    },
    "kernelspec": {
      "name": "python3",
      "display_name": "Python 3"
    },
    "language_info": {
      "name": "python"
    }
  },
  "cells": [
    {
      "cell_type": "markdown",
      "source": [
        "Q-1. Write an SQL query to print the FIRST_NAME from Worker table after replacing ‘a’\n",
        "with ‘A’.\n",
        "\n",
        "**Ans** SELECT REPLACE(FIRST_NAME,'a','A') FROM Wokrer;"
      ],
      "metadata": {
        "id": "A_xVLGCYHOZz"
      }
    },
    {
      "cell_type": "markdown",
      "source": [
        "Q-2. Write an SQL query to print all Worker details from the Worker table order by\n",
        "FIRST_NAME Ascending and DEPARTMENT Descending.\n",
        "\n",
        "**Ans** SELECT * FROM Worker ORDER BY FIRST_NAME ASC, LAST_NAME DESC;"
      ],
      "metadata": {
        "id": "JjgaE_C8HVkH"
      }
    },
    {
      "cell_type": "markdown",
      "source": [
        "Q-3. Write an SQL query to fetch the names of workers who earn the highest salary.\n",
        "\n",
        "**Ans**SELECT FIRST_NAME, LAST_NAME FROM Worker WHERE SALARY = (SELECT MAX(SALARY) FROM Worker);"
      ],
      "metadata": {
        "id": "ElH1bqfmHga8"
      }
    }
  ]
}